{
 "cells": [
  {
   "cell_type": "markdown",
   "id": "3addee52",
   "metadata": {},
   "source": [
    "# Proyecto: Análisis Exploratorio de los Datos y preparación de un DataSet. "
   ]
  },
  {
   "cell_type": "markdown",
   "id": "6604257e",
   "metadata": {},
   "source": [
    "## Nombre del estudiante: Axel Martin Vega Espinoza   \n",
    "## Número de control: 20120168   \n",
    "## Materia/Grupo: Ciencia De Datos/A"
   ]
  },
  {
   "cell_type": "markdown",
   "id": "2a10cc63",
   "metadata": {},
   "source": [
    "El siguiente proyecto tomará como set de datos un conjunto de información sobre los precios de las casas.\n",
    "El set de datos tiene datos nulos, datos tipo objeto, anomalías, inconsistencias, por lo que es necesario conocimientos previos de EDA para poder prepararlo.\n",
    "El objetivo es preparar un set de datos para poder usarlo posteriormente en un modelo de ML, no basta con solo volverlo numérico, necesitamos tener conocimientos sobre los datos mismos.\n",
    "El resultado de esta exploración debe ser:\n",
    "1. Gráficas y conclusiones acerca de los datos.\n",
    "2. Eliminación de datos nulos, anomalías e inconsistencias.\n",
    "3. Generación de un dataframe listo para usarse sobre un modelo de ML (numérico), con las variables, cuya correlación es más fuerte con la variable objetivo, identificadas.\n"
   ]
  },
  {
   "cell_type": "markdown",
   "id": "f7e10f7f",
   "metadata": {},
   "source": [
    "## Análisis y exploración."
   ]
  },
  {
   "cell_type": "markdown",
   "id": "4b82e5f4",
   "metadata": {},
   "source": [
    "### Paso 1: Importar las librerías que se van a utilizar y mostrar las primeras y últimas 5 filas del dataset."
   ]
  },
  {
   "cell_type": "markdown",
   "id": "d73d9249",
   "metadata": {},
   "source": [
    "### Paso 2: Mostrar información sobre el dataset, qué tipos son, cuántos nulos hay, datos estadísticos."
   ]
  },
  {
   "cell_type": "markdown",
   "id": "1bb0c3a3",
   "metadata": {},
   "source": [
    "### Paso 3: Mostrar información sobre las variables \"objeto\" y revisar si se pueden categorizar (todavía no se categorizan, solo se exploran)."
   ]
  },
  {
   "cell_type": "markdown",
   "id": "bf37709e",
   "metadata": {},
   "source": [
    "### Paso 4: Mostrar información sobre las correlaciones (variables numéricas), la variable/columna objetivo es \"SalePrice\"."
   ]
  },
  {
   "cell_type": "markdown",
   "id": "75626c90",
   "metadata": {},
   "source": [
    "### Paso 5: Muestra de gráficas de las variables numéricas y categóricas. \n",
    "Puede ser boxplot para las numéricas y de conteo/histograma para las categóricas."
   ]
  },
  {
   "cell_type": "markdown",
   "id": "802a8e5c",
   "metadata": {},
   "source": [
    "## Tratamiento de los datos."
   ]
  },
  {
   "cell_type": "markdown",
   "id": "7d20d96b",
   "metadata": {},
   "source": [
    "### Paso 1: Crear un límite para eliminar los datos nulos, mostrar las variables que harán eliminación a sus nulos y mostrar los conteos antes, eliminar los datos nulos y mostrar los conteos de nuevo."
   ]
  },
  {
   "cell_type": "markdown",
   "id": "2a266f07",
   "metadata": {},
   "source": [
    "### Paso 2: Si existen nulos aún, dependiendo de la gráficas anteriores, determinar si hay que imputar por medio de la moda, la mediana o la media; realizar la imputación."
   ]
  },
  {
   "cell_type": "markdown",
   "id": "3e0c5452",
   "metadata": {},
   "source": [
    "### Paso 3: Analizar los datos numéricos, determinar si hay anomalías y utilizar el rango intercuartílico para tratarlos, mostrar gráficos antes y después del tratamiento, debe verse si la distribución se vio afectada."
   ]
  },
  {
   "cell_type": "markdown",
   "id": "7b2d55a4",
   "metadata": {},
   "source": [
    "### Paso 4: En base a la exploración previa (paso 3 del análisis y exploración), determinar si alguna columna puede ser categorizada y realizar la categorización."
   ]
  },
  {
   "cell_type": "markdown",
   "id": "a0771557",
   "metadata": {},
   "source": [
    "### Paso 5: De las columnas categorizadas, buscar si hay inconsistencias, en caso de que las haya, hay que mostrarlas y tratarlas."
   ]
  },
  {
   "cell_type": "markdown",
   "id": "8f93756b",
   "metadata": {},
   "source": [
    "## Manipulación y preparación de los datos."
   ]
  },
  {
   "cell_type": "markdown",
   "id": "875ca1d4",
   "metadata": {},
   "source": [
    "### Paso 1: Mostrar la matriz de correlación de nuevo, identificar las columnas que más esté correlacionadas con \"SalePrice\", mostrar numéricamente las 10 variables que estén correlacionadas más fuertemente a la variable objetivo."
   ]
  },
  {
   "cell_type": "markdown",
   "id": "d4c12922",
   "metadata": {},
   "source": [
    "### Paso 2: Responder las preguntas.\n",
    "1. ¿Con las variables numéricas que se tienen es suficiente para predecir la variable objetivo?\n",
    "2. ¿Alguna de las variables categóricas servirá realmente para determinar la variable objetivo?\n"
   ]
  },
  {
   "cell_type": "markdown",
   "id": "a259725e",
   "metadata": {},
   "source": [
    "### Paso 3: Conversión de categórico a numérico. Hay que seleccionar las columnas que ya fueron categorizadas y hay que sacar su valor con un \"one-hot encoder\", luego hay que agregarlas al dataset y eliminar su columna categórica. Hay que mostrar de nuevo las correlaciones para ver si cambiaron las variables más correlacionadas con la variable objetivo."
   ]
  },
  {
   "cell_type": "markdown",
   "id": "842300fb",
   "metadata": {},
   "source": [
    "### Paso 4: Conversión de las demás columnas objeto a numérico. Para ello se va a requerir un encoder más avanzado, usar la clase \"MultiColumnLabelEncoder\" vista en clase, el dataframe resultante va a ser la versión consolidada y completamente numérica."
   ]
  },
  {
   "cell_type": "markdown",
   "id": "7a69577b",
   "metadata": {},
   "source": [
    "### Paso 5: Mostrar la información del nuevo dataframe (numérico), mostrar que no contenga nulos, que todos los datos sean de tipo int/float/uint. Mostrar de nuevo las correlaciones, filtrar para que solo muestre las 10 más correlacionadas a la variable objetivo."
   ]
  },
  {
   "cell_type": "markdown",
   "id": "16fef87f",
   "metadata": {},
   "source": [
    "## Presentación del proyecto"
   ]
  },
  {
   "cell_type": "markdown",
   "id": "ff3b2808",
   "metadata": {},
   "source": [
    "### Paso 1: Crear un repositorio en GitHub.\n",
    "### Paso 2: Subir el trabajo a ese repositorio y crear un archivo README.\n",
    "### Paso 3: En el README, describir el trabajo, así como describir qué resulta de este proyecto.\n",
    "### Paso 4: Volver público el repositorio, validar acceso desde fuera y guardar el enlace.\n",
    "### Paso 5: Enviar el enlace y los demás archivos al profesor para su evaluación (a través de Teams)."
   ]
  },
  {
   "cell_type": "markdown",
   "id": "596ca8c7",
   "metadata": {},
   "source": [
    "## Conclusiones acerca del análisis exploratorio y del dataset en general."
   ]
  },
  {
   "cell_type": "code",
   "execution_count": null,
   "id": "49b24d4a",
   "metadata": {},
   "outputs": [],
   "source": []
  }
 ],
 "metadata": {
  "kernelspec": {
   "display_name": "Python 3 (ipykernel)",
   "language": "python",
   "name": "python3"
  },
  "language_info": {
   "codemirror_mode": {
    "name": "ipython",
    "version": 3
   },
   "file_extension": ".py",
   "mimetype": "text/x-python",
   "name": "python",
   "nbconvert_exporter": "python",
   "pygments_lexer": "ipython3",
   "version": "3.11.4"
  }
 },
 "nbformat": 4,
 "nbformat_minor": 5
}
